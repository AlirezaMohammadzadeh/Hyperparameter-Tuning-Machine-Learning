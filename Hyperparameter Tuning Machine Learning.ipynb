{
 "cells": [
  {
   "cell_type": "code",
   "execution_count": 26,
   "id": "79a4278a",
   "metadata": {},
   "outputs": [],
   "source": [
    "import numpy as np \n",
    "import pandas as pd \n",
    "from sklearn import datasets\n",
    "from sklearn import tree\n",
    "from sklearn.pipeline import make_pipeline\n",
    "from sklearn import preprocessing\n",
    "from sklearn.model_selection import ShuffleSplit\n",
    "from sklearn.model_selection import cross_val_score"
   ]
  },
  {
   "cell_type": "code",
   "execution_count": 27,
   "id": "28dfd59d",
   "metadata": {},
   "outputs": [],
   "source": [
    "#Loading data from sklearn package\n",
    "iris = datasets.load_iris()"
   ]
  },
  {
   "cell_type": "markdown",
   "id": "d583c04d",
   "metadata": {},
   "source": [
    "DECISION TREE"
   ]
  },
  {
   "cell_type": "markdown",
   "id": "5fbd9419",
   "metadata": {},
   "source": [
    "Compare the difference in performance using both the available criteria:gini and entropy"
   ]
  },
  {
   "cell_type": "code",
   "execution_count": 28,
   "id": "13441db0",
   "metadata": {},
   "outputs": [
    {
     "name": "stdout",
     "output_type": "stream",
     "text": [
      "  Criterion  Accuracy\n",
      "0      gini  0.955556\n",
      "1   entropy  0.942222\n"
     ]
    }
   ],
   "source": [
    "#creating table to store accuracy results based on criterion\n",
    "TreeScoreTable = pd.DataFrame(columns=['Criterion', 'Accuracy'])\n",
    "#criteria to be tested\n",
    "TreeCrit = ['gini', 'entropy'] \n",
    "#fill column 'Criterion' \n",
    "TreeScoreTable['Criterion'] = TreeCrit       \n",
    "\n",
    "#determining where to separe test and train data\n",
    "cv = ShuffleSplit(n_splits=5, test_size=0.3, random_state=0)        \n",
    "\n",
    "j = 0\n",
    "\n",
    "for i in TreeCrit: \n",
    "    #Initialize decision tree\n",
    "    TreeModel = make_pipeline(preprocessing.StandardScaler(), tree.DecisionTreeClassifier(criterion=i)) \n",
    "    #Cross validation for decision tree\n",
    "    TreeScoreTable.iloc[j, 1] = cross_val_score(TreeModel, iris.data, iris.target, cv = cv).mean()        \n",
    "    j += 1     \n",
    "    \n",
    "print(TreeScoreTable)\n"
   ]
  },
  {
   "cell_type": "markdown",
   "id": "067b12ac",
   "metadata": {},
   "source": [
    " Tune the hyper-parameters of tree decision model by a grid search"
   ]
  },
  {
   "cell_type": "code",
   "execution_count": 29,
   "id": "a443cc11",
   "metadata": {},
   "outputs": [
    {
     "name": "stdout",
     "output_type": "stream",
     "text": [
      "Accuracy of the tuned model: 0.9733\n",
      "{'criterion': 'gini', 'max_depth': None, 'max_leaf_nodes': 5, 'min_samples_leaf': 1, 'min_samples_split': 20}\n"
     ]
    }
   ],
   "source": [
    "from sklearn.model_selection import GridSearchCV, train_test_split\n",
    "#criteria to be tested\n",
    "criteria = [\"gini\", \"entropy\"]\n",
    "#min sample split to be tested\n",
    "min_sample_split_range = [2,10, 20] \n",
    "#max depth to be tested\n",
    "max_depth_range = [None, 2, 5, 10] \n",
    "#min samples in the leaf to be tested\n",
    "min_samples_leaf_range = [1, 5, 10] \n",
    "#min leaf nodes to be tested\n",
    "min_leaf_nodes_range = [None, 5, 10, 20]    \n",
    "\n",
    "param_grid = {\"criterion\": criteria,\n",
    "              \"min_samples_split\": min_sample_split_range,\n",
    "              \"max_depth\": max_depth_range,\n",
    "              \"min_samples_leaf\": min_samples_leaf_range,\n",
    "              \"max_leaf_nodes\": min_leaf_nodes_range\n",
    "                }\n",
    "#setting grid with estimator\n",
    "grid = GridSearchCV(estimator=tree.DecisionTreeClassifier(), \n",
    "                    param_grid=param_grid, \n",
    "                    cv = 5, \n",
    "                    scoring='accuracy', \n",
    "                    refit=True)     \n",
    "#creating preprocessing\n",
    "tree_model = make_pipeline(preprocessing.StandardScaler(), grid)    \n",
    "#fitting data\n",
    "tree_model.fit(iris.data, iris.target)      \n",
    "\n",
    "print(\"Accuracy of the tuned model: %.4f\" %grid.best_score_)\n",
    "print(grid.best_params_)"
   ]
  },
  {
   "cell_type": "markdown",
   "id": "45e03481",
   "metadata": {},
   "source": [
    "Tune the hyper-parameters of tree decision model by a random search"
   ]
  },
  {
   "cell_type": "code",
   "execution_count": 30,
   "id": "42f81b64",
   "metadata": {},
   "outputs": [
    {
     "name": "stdout",
     "output_type": "stream",
     "text": [
      "Accuracy of the tuned model: 0.9667\n",
      "{'min_samples_split': 2, 'min_samples_leaf': 1, 'max_leaf_nodes': 20, 'max_depth': 5, 'criterion': 'gini'}\n"
     ]
    }
   ],
   "source": [
    "from sklearn.model_selection import RandomizedSearchCV\n",
    "random_search =RandomizedSearchCV(estimator=tree.DecisionTreeClassifier(), \n",
    "                    param_distributions=param_grid, \n",
    "                    cv = 5,\n",
    "                    scoring='accuracy', \n",
    "                    refit=True)\n",
    "#fit the RandomizedSearchCV\n",
    "random_search.fit(iris.data,iris.target)\n",
    "\n",
    "print(\"Accuracy of the tuned model: %.4f\" %random_search.best_score_)\n",
    "print(random_search.best_params_)"
   ]
  },
  {
   "cell_type": "markdown",
   "id": "881a0d17",
   "metadata": {},
   "source": [
    "Tune the hyper-parameters of SVM model by a grid search"
   ]
  },
  {
   "cell_type": "code",
   "execution_count": 31,
   "id": "e5ab83a0",
   "metadata": {},
   "outputs": [
    {
     "name": "stdout",
     "output_type": "stream",
     "text": [
      "Accuracy of the tuned model: 0.9733\n",
      "{'C': 10, 'degree': 1, 'kernel': 'rbf'}\n"
     ]
    }
   ],
   "source": [
    "from sklearn import svm\n",
    "#types of kernels to be tested\n",
    "kernel_types = [\"linear\", \"poly\", \"rbf\", \"sigmoid\"]   \n",
    " #range of C to be tested\n",
    "C_range = [0.01, 0.1, 1, 10, 100, 1000]\n",
    "#degrees to be tested\n",
    "degree_range = [1, 2, 3, 4, 5, 6]                       \n",
    "\n",
    "param_grid = {\"kernel\": kernel_types,\n",
    "              \"C\": C_range,\n",
    "              \"degree\": degree_range,\n",
    "              }         \n",
    "\n",
    "grid = GridSearchCV(estimator = svm.SVC(), \n",
    "                    param_grid = param_grid, \n",
    "                    cv = 5, \n",
    "                    scoring = 'accuracy', \n",
    "                    refit = True)   \n",
    "\n",
    "svm_model = make_pipeline(preprocessing.StandardScaler(), grid)    \n",
    "svm_model.fit(iris.data, iris.target)       \n",
    "\n",
    "print(\"Accuracy of the tuned model: %.4f\" %grid.best_score_)\n",
    "print(grid.best_params_)\n"
   ]
  },
  {
   "cell_type": "markdown",
   "id": "1753e17a",
   "metadata": {},
   "source": [
    "Tune the hyper-parameters of SVM model by a random search"
   ]
  },
  {
   "cell_type": "code",
   "execution_count": 32,
   "id": "09577d59",
   "metadata": {},
   "outputs": [
    {
     "name": "stdout",
     "output_type": "stream",
     "text": [
      "Accuracy of the tuned model: 0.9733\n",
      "{'kernel': 'linear', 'degree': 5, 'C': 10}\n"
     ]
    }
   ],
   "source": [
    "random_search =RandomizedSearchCV(estimator=svm.SVC(), \n",
    "                    param_distributions=param_grid, \n",
    "                    cv = 5,\n",
    "                    scoring='accuracy', \n",
    "                    refit=True)\n",
    "#fit the RandomizedSearchCV\n",
    "random_search.fit(iris.data,iris.target)\n",
    "\n",
    "print(\"Accuracy of the tuned model: %.4f\" %random_search.best_score_)\n",
    "print(random_search.best_params_)"
   ]
  }
 ],
 "metadata": {
  "kernelspec": {
   "display_name": "Python 3 (ipykernel)",
   "language": "python",
   "name": "python3"
  },
  "language_info": {
   "codemirror_mode": {
    "name": "ipython",
    "version": 3
   },
   "file_extension": ".py",
   "mimetype": "text/x-python",
   "name": "python",
   "nbconvert_exporter": "python",
   "pygments_lexer": "ipython3",
   "version": "3.9.13"
  }
 },
 "nbformat": 4,
 "nbformat_minor": 5
}
